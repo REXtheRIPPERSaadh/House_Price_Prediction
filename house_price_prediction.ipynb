# Step 1: Import Libraries
import pandas as pd
import numpy as np
import matplotlib.pyplot as plt
from sklearn.model_selection import train_test_split
from sklearn.linear_model import LinearRegression
from sklearn.metrics import mean_squared_error, r2_score

# Step 2: Load Dataset (You can use a dataset like the Boston Housing Dataset)
from sklearn.datasets import load_boston
boston_dataset = load_boston()

# Convert dataset into a DataFrame
data = pd.DataFrame(boston_dataset.data, columns=boston_dataset.feature_names)
data['PRICE'] = boston_dataset.target

# Step 3: Explore the Data
print(data.head())

# Visualize the relationship between one feature (RM - number of rooms) and Price
plt.scatter(data['RM'], data['PRICE'])
plt.xlabel('Number of Rooms (RM)')
plt.ylabel('Price')
plt.title('Number of Rooms vs Price')
plt.show()

# Step 4: Data Preprocessing
X = data[['RM']]  # Selecting only the RM (number of rooms) feature
y = data['PRICE']  # Target variable (price)

# Step 5: Split Data into Training and Testing Sets
X_train, X_test, y_train, y_test = train_test_split(X, y, test_size=0.2, random_state=42)

# Step 6: Train a Linear Regression Model
model = LinearRegression()
model.fit(X_train, y_train)

# Step 7: Make Predictions on the Test Set
y_pred = model.predict(X_test)

# Step 8: Evaluate the Model
mse = mean_squared_error(y_test, y_pred)
r2 = r2_score(y_test, y_pred)

print(f"Mean Squared Error: {mse}")
print(f"R-Squared: {r2}")

# Step 9: Visualize the Regression Line
plt.scatter(X_test, y_test, color='blue', label='Actual Prices')
plt.plot(X_test, y_pred, color='red', label='Predicted Prices')
plt.xlabel('Number of Rooms (RM)')
plt.ylabel('Price')
plt.title('Actual vs Predicted Prices')
plt.legend()
plt.show()
